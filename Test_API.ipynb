{
  "nbformat": 4,
  "nbformat_minor": 0,
  "metadata": {
    "colab": {
      "provenance": [],
      "include_colab_link": true
    },
    "kernelspec": {
      "name": "python3",
      "display_name": "Python 3"
    },
    "language_info": {
      "name": "python"
    }
  },
  "cells": [
    {
      "cell_type": "markdown",
      "metadata": {
        "id": "view-in-github",
        "colab_type": "text"
      },
      "source": [
        "<a href=\"https://colab.research.google.com/github/Zolbayar-hub/titanic_pipeline/blob/main/Test_API.ipynb\" target=\"_parent\"><img src=\"https://colab.research.google.com/assets/colab-badge.svg\" alt=\"Open In Colab\"/></a>"
      ]
    },
    {
      "cell_type": "code",
      "execution_count": null,
      "metadata": {
        "id": "gFVAf0CQ9Mx6",
        "colab": {
          "base_uri": "https://localhost:8080/"
        },
        "outputId": "cccaa880-b9f5-40a4-db20-99821e7d2810"
      },
      "outputs": [
        {
          "output_type": "stream",
          "name": "stdout",
          "text": [
            "Requirement already satisfied: requests in /usr/local/lib/python3.11/dist-packages (2.32.3)\n",
            "Requirement already satisfied: pandas in /usr/local/lib/python3.11/dist-packages (2.2.2)\n",
            "Requirement already satisfied: google-cloud-bigquery in /usr/local/lib/python3.11/dist-packages (3.25.0)\n",
            "Requirement already satisfied: charset-normalizer<4,>=2 in /usr/local/lib/python3.11/dist-packages (from requests) (3.4.1)\n",
            "Requirement already satisfied: idna<4,>=2.5 in /usr/local/lib/python3.11/dist-packages (from requests) (3.10)\n",
            "Requirement already satisfied: urllib3<3,>=1.21.1 in /usr/local/lib/python3.11/dist-packages (from requests) (2.3.0)\n",
            "Requirement already satisfied: certifi>=2017.4.17 in /usr/local/lib/python3.11/dist-packages (from requests) (2024.12.14)\n",
            "Requirement already satisfied: numpy>=1.23.2 in /usr/local/lib/python3.11/dist-packages (from pandas) (1.26.4)\n",
            "Requirement already satisfied: python-dateutil>=2.8.2 in /usr/local/lib/python3.11/dist-packages (from pandas) (2.8.2)\n",
            "Requirement already satisfied: pytz>=2020.1 in /usr/local/lib/python3.11/dist-packages (from pandas) (2024.2)\n",
            "Requirement already satisfied: tzdata>=2022.7 in /usr/local/lib/python3.11/dist-packages (from pandas) (2025.1)\n",
            "Requirement already satisfied: google-api-core!=2.0.*,!=2.1.*,!=2.10.*,!=2.2.*,!=2.3.*,!=2.4.*,!=2.5.*,!=2.6.*,!=2.7.*,!=2.8.*,!=2.9.*,<3.0.0dev,>=1.34.1 in /usr/local/lib/python3.11/dist-packages (from google-api-core[grpc]!=2.0.*,!=2.1.*,!=2.10.*,!=2.2.*,!=2.3.*,!=2.4.*,!=2.5.*,!=2.6.*,!=2.7.*,!=2.8.*,!=2.9.*,<3.0.0dev,>=1.34.1->google-cloud-bigquery) (2.19.2)\n",
            "Requirement already satisfied: google-auth<3.0.0dev,>=2.14.1 in /usr/local/lib/python3.11/dist-packages (from google-cloud-bigquery) (2.27.0)\n",
            "Requirement already satisfied: google-cloud-core<3.0.0dev,>=1.6.0 in /usr/local/lib/python3.11/dist-packages (from google-cloud-bigquery) (2.4.1)\n",
            "Requirement already satisfied: google-resumable-media<3.0dev,>=0.6.0 in /usr/local/lib/python3.11/dist-packages (from google-cloud-bigquery) (2.7.2)\n",
            "Requirement already satisfied: packaging>=20.0.0 in /usr/local/lib/python3.11/dist-packages (from google-cloud-bigquery) (24.2)\n",
            "Requirement already satisfied: googleapis-common-protos<2.0.dev0,>=1.56.2 in /usr/local/lib/python3.11/dist-packages (from google-api-core!=2.0.*,!=2.1.*,!=2.10.*,!=2.2.*,!=2.3.*,!=2.4.*,!=2.5.*,!=2.6.*,!=2.7.*,!=2.8.*,!=2.9.*,<3.0.0dev,>=1.34.1->google-api-core[grpc]!=2.0.*,!=2.1.*,!=2.10.*,!=2.2.*,!=2.3.*,!=2.4.*,!=2.5.*,!=2.6.*,!=2.7.*,!=2.8.*,!=2.9.*,<3.0.0dev,>=1.34.1->google-cloud-bigquery) (1.66.0)\n",
            "Requirement already satisfied: protobuf!=3.20.0,!=3.20.1,!=4.21.0,!=4.21.1,!=4.21.2,!=4.21.3,!=4.21.4,!=4.21.5,<6.0.0.dev0,>=3.19.5 in /usr/local/lib/python3.11/dist-packages (from google-api-core!=2.0.*,!=2.1.*,!=2.10.*,!=2.2.*,!=2.3.*,!=2.4.*,!=2.5.*,!=2.6.*,!=2.7.*,!=2.8.*,!=2.9.*,<3.0.0dev,>=1.34.1->google-api-core[grpc]!=2.0.*,!=2.1.*,!=2.10.*,!=2.2.*,!=2.3.*,!=2.4.*,!=2.5.*,!=2.6.*,!=2.7.*,!=2.8.*,!=2.9.*,<3.0.0dev,>=1.34.1->google-cloud-bigquery) (4.25.6)\n",
            "Requirement already satisfied: proto-plus<2.0.0dev,>=1.22.3 in /usr/local/lib/python3.11/dist-packages (from google-api-core!=2.0.*,!=2.1.*,!=2.10.*,!=2.2.*,!=2.3.*,!=2.4.*,!=2.5.*,!=2.6.*,!=2.7.*,!=2.8.*,!=2.9.*,<3.0.0dev,>=1.34.1->google-api-core[grpc]!=2.0.*,!=2.1.*,!=2.10.*,!=2.2.*,!=2.3.*,!=2.4.*,!=2.5.*,!=2.6.*,!=2.7.*,!=2.8.*,!=2.9.*,<3.0.0dev,>=1.34.1->google-cloud-bigquery) (1.26.0)\n",
            "Requirement already satisfied: grpcio<2.0dev,>=1.33.2 in /usr/local/lib/python3.11/dist-packages (from google-api-core[grpc]!=2.0.*,!=2.1.*,!=2.10.*,!=2.2.*,!=2.3.*,!=2.4.*,!=2.5.*,!=2.6.*,!=2.7.*,!=2.8.*,!=2.9.*,<3.0.0dev,>=1.34.1->google-cloud-bigquery) (1.70.0)\n",
            "Requirement already satisfied: grpcio-status<2.0.dev0,>=1.33.2 in /usr/local/lib/python3.11/dist-packages (from google-api-core[grpc]!=2.0.*,!=2.1.*,!=2.10.*,!=2.2.*,!=2.3.*,!=2.4.*,!=2.5.*,!=2.6.*,!=2.7.*,!=2.8.*,!=2.9.*,<3.0.0dev,>=1.34.1->google-cloud-bigquery) (1.62.3)\n",
            "Requirement already satisfied: cachetools<6.0,>=2.0.0 in /usr/local/lib/python3.11/dist-packages (from google-auth<3.0.0dev,>=2.14.1->google-cloud-bigquery) (5.5.1)\n",
            "Requirement already satisfied: pyasn1-modules>=0.2.1 in /usr/local/lib/python3.11/dist-packages (from google-auth<3.0.0dev,>=2.14.1->google-cloud-bigquery) (0.4.1)\n",
            "Requirement already satisfied: rsa<5,>=3.1.4 in /usr/local/lib/python3.11/dist-packages (from google-auth<3.0.0dev,>=2.14.1->google-cloud-bigquery) (4.9)\n",
            "Requirement already satisfied: google-crc32c<2.0dev,>=1.0 in /usr/local/lib/python3.11/dist-packages (from google-resumable-media<3.0dev,>=0.6.0->google-cloud-bigquery) (1.6.0)\n",
            "Requirement already satisfied: six>=1.5 in /usr/local/lib/python3.11/dist-packages (from python-dateutil>=2.8.2->pandas) (1.17.0)\n",
            "Requirement already satisfied: pyasn1<0.7.0,>=0.4.6 in /usr/local/lib/python3.11/dist-packages (from pyasn1-modules>=0.2.1->google-auth<3.0.0dev,>=2.14.1->google-cloud-bigquery) (0.6.1)\n"
          ]
        }
      ],
      "source": [
        "!pip install requests pandas google-cloud-bigquery\n",
        "\n"
      ]
    },
    {
      "cell_type": "code",
      "source": [
        "import requests\n",
        "import pandas as pd\n",
        "\n",
        "# Your PriceLabs API key\n",
        "api_key = \"Mstk49YvpI22P3exIQgRcYmqmAkGszOpwvLivjGs\"\n",
        "\n",
        "# Example API URL, replace with the actual endpoint\n",
        "api_url = f\"https://api.pricelabs.com/v1/listings/{listing_id}/pricing\"\n",
        "\n",
        "# Headers for authentication\n",
        "headers = {\n",
        "    \"Authorization\": f\"Bearer {api_key}\"\n",
        "}\n"
      ],
      "metadata": {
        "id": "OnZq6n9tENOv"
      },
      "execution_count": null,
      "outputs": []
    },
    {
      "cell_type": "code",
      "source": [
        "import requests\n",
        "\n",
        "# Test with a public API (e.g., JSONPlaceholder)\n",
        "test_url = \"https://jsonplaceholder.typicode.com/posts\"\n",
        "response = requests.get(test_url)\n",
        "\n",
        "if response.status_code == 200:\n",
        "    print(\"Successfully reached the test API\")\n",
        "else:\n",
        "    print(f\"Failed to reach the test API: {response.status_code}\")\n"
      ],
      "metadata": {
        "colab": {
          "base_uri": "https://localhost:8080/"
        },
        "id": "R0EOeAC_Heyx",
        "outputId": "ae25ea33-2490-49e7-ffbf-b9f0c47bafef"
      },
      "execution_count": null,
      "outputs": [
        {
          "output_type": "stream",
          "name": "stdout",
          "text": [
            "Successfully reached the test API\n"
          ]
        }
      ]
    },
    {
      "cell_type": "code",
      "source": [
        "import requests\n",
        "\n",
        "# Your PriceLabs API key (replace {{API_KEY}} with your actual API key)\n",
        "api_key = \"64ei4i7DghoPUFcxk9uoyVJ1Ov8BFhPt5QqUdZou\"  # Replace this with your real API key\n",
        "\n",
        "# Correct API URL (with query parameters)\n",
        "url = f\"https://api.pricelabs.co/v1/listings?skip_hidden=true&only_syncing_listings=true&api_key={api_key}\"\n",
        "\n",
        "# Headers for authentication\n",
        "headers = {\n",
        "    \"Authorization\": f\"Bearer {api_key}\",  # Correctly passing the API key here\n",
        "    \"Content-Type\": \"application/json\"\n",
        "}\n",
        "\n",
        "# Making the API request\n",
        "try:\n",
        "    response = requests.get(url, headers=headers)\n",
        "\n",
        "    # Check if the request was successful\n",
        "    if response.status_code == 200:\n",
        "        listings_data = response.json()\n",
        "\n",
        "        print(\"Listings data retrieved successfully:\")\n",
        "        print(listings_data)  # Print the retrieved data\n",
        "    else:\n",
        "        print(f\"Error: {response.status_code} - {response.text}\")\n",
        "except requests.exceptions.RequestException as e:\n",
        "    print(f\"Request failed: {e}\")\n"
      ],
      "metadata": {
        "colab": {
          "base_uri": "https://localhost:8080/"
        },
        "id": "YLzUY9BxpF0d",
        "outputId": "b237d6eb-d813-45e8-f69a-a9a16fff41cf"
      },
      "execution_count": null,
      "outputs": [
        {
          "output_type": "stream",
          "name": "stdout",
          "text": [
            "Listings data retrieved successfully:\n",
            "{'listings': [{'id': '352182', 'pms': 'ownerrez', 'name': 'Frangista Hideaway', 'no_of_bedrooms': 5, 'min': 122, 'base': 509, 'max': 3000, 'group': None, 'subgroup': None, 'tags': None, 'notes': None, 'isHidden': False, 'push_enabled': True, 'last_date_pushed': '2025-02-04T03:06:26.000Z', 'last_booked_date': '2025-01-23T00:00:00.000Z', 'occupancy_next_30': '47 %', 'market_occupancy_next_30': '23 %', 'occupancy_next_60': '30 %', 'market_occupancy_next_60': '30 %', 'occupancy_next_90': '20 %', 'market_occupancy_next_90': '29 %', 'occupancy_next_120': '18 %', 'market_occupancy_next_120': '28 %', 'revenue_next_120': 10013, 'stly_revenue_next_120': 29842, 'adr_next_120': 477, 'stly_adr_next_120': 409, 'occupancy_next_7': '0 %', 'market_occupancy_next_7': '24 %', 'recommended_base_price': 'Unavailable', 'last_refreshed_at': '2025-02-04T03:06:23+00:00'}, {'id': '352183', 'pms': 'ownerrez', 'name': \"Heaven's Dune\", 'no_of_bedrooms': 6, 'min': 156, 'base': 576, 'max': 4000, 'group': None, 'subgroup': None, 'tags': None, 'notes': None, 'isHidden': False, 'push_enabled': True, 'last_date_pushed': '2025-02-04T03:06:58.000Z', 'last_booked_date': '2025-01-29T00:00:00.000Z', 'occupancy_next_30': '17 %', 'market_occupancy_next_30': '26 %', 'occupancy_next_60': '33 %', 'market_occupancy_next_60': '28 %', 'occupancy_next_90': '40 %', 'market_occupancy_next_90': '25 %', 'occupancy_next_120': '30 %', 'market_occupancy_next_120': '27 %', 'revenue_next_120': 17678, 'stly_revenue_next_120': 25031, 'adr_next_120': 491, 'stly_adr_next_120': 439, 'occupancy_next_7': '0 %', 'market_occupancy_next_7': '24 %', 'recommended_base_price': 'Unavailable', 'last_refreshed_at': '2025-02-04T03:06:55+00:00'}, {'id': '352184', 'pms': 'ownerrez', 'name': 'The Sage Retreat', 'no_of_bedrooms': 4, 'min': 122, 'base': 324, 'max': 4000, 'group': 'Smokies', 'subgroup': None, 'tags': None, 'notes': None, 'isHidden': False, 'push_enabled': True, 'last_date_pushed': '2025-02-04T03:07:20.000Z', 'last_booked_date': '2025-02-03T00:00:00.000Z', 'occupancy_next_30': '60 %', 'market_occupancy_next_30': '22 %', 'occupancy_next_60': '42 %', 'market_occupancy_next_60': '23 %', 'occupancy_next_90': '43 %', 'market_occupancy_next_90': '20 %', 'occupancy_next_120': '35 %', 'market_occupancy_next_120': '18 %', 'revenue_next_120': 10622, 'stly_revenue_next_120': 20091, 'adr_next_120': 295, 'stly_adr_next_120': 300, 'occupancy_next_7': '14 %', 'market_occupancy_next_7': '22 %', 'recommended_base_price': 'Unavailable', 'last_refreshed_at': '2025-02-04T03:07:17+00:00'}, {'id': '354252', 'pms': 'ownerrez', 'name': 'Beach Vibes', 'no_of_bedrooms': 4, 'min': 92, 'base': 214, 'max': 2500, 'group': None, 'subgroup': None, 'tags': None, 'notes': None, 'isHidden': False, 'push_enabled': True, 'last_date_pushed': '2025-02-04T03:06:47.000Z', 'last_booked_date': '2025-02-02T00:00:00.000Z', 'occupancy_next_30': '63 %', 'market_occupancy_next_30': '28 %', 'occupancy_next_60': '43 %', 'market_occupancy_next_60': '27 %', 'occupancy_next_90': '43 %', 'market_occupancy_next_90': '23 %', 'occupancy_next_120': '38 %', 'market_occupancy_next_120': '21 %', 'revenue_next_120': 8953, 'stly_revenue_next_120': 10752, 'adr_next_120': 195, 'stly_adr_next_120': 234, 'occupancy_next_7': '100 %', 'market_occupancy_next_7': '28 %', 'recommended_base_price': 'Unavailable', 'last_refreshed_at': '2025-02-04T03:06:44+00:00'}, {'id': '359365', 'pms': 'ownerrez', 'name': 'The Grey  Darling', 'no_of_bedrooms': 5, 'min': 122, 'base': 304, 'max': 2500, 'group': 'Smokies', 'subgroup': None, 'tags': None, 'notes': None, 'isHidden': False, 'push_enabled': True, 'last_date_pushed': '2025-02-04T03:06:50.000Z', 'last_booked_date': '2025-01-18T00:00:00.000Z', 'occupancy_next_30': '0 %', 'market_occupancy_next_30': '22 %', 'occupancy_next_60': '0 %', 'market_occupancy_next_60': '25 %', 'occupancy_next_90': '9 %', 'market_occupancy_next_90': '23 %', 'occupancy_next_120': '13 %', 'market_occupancy_next_120': '22 %', 'revenue_next_120': 3795, 'stly_revenue_next_120': 15226, 'adr_next_120': 345, 'stly_adr_next_120': 277, 'occupancy_next_7': '0 %', 'market_occupancy_next_7': '22 %', 'recommended_base_price': 'Unavailable', 'last_refreshed_at': '2025-02-04T03:06:47+00:00'}, {'id': '367654', 'pms': 'ownerrez', 'name': 'Bluebird Haus', 'no_of_bedrooms': 4, 'min': 126, 'base': 384, 'max': 5000, 'group': None, 'subgroup': None, 'tags': None, 'notes': None, 'isHidden': False, 'push_enabled': True, 'last_date_pushed': '2025-02-04T03:06:58.000Z', 'last_booked_date': '2025-01-29T00:00:00.000Z', 'occupancy_next_30': '50 %', 'market_occupancy_next_30': '55 %', 'occupancy_next_60': '57 %', 'market_occupancy_next_60': '47 %', 'occupancy_next_90': '38 %', 'market_occupancy_next_90': '32 %', 'occupancy_next_120': '28 %', 'market_occupancy_next_120': '25 %', 'revenue_next_120': 21038, 'stly_revenue_next_120': 25855, 'adr_next_120': 619, 'stly_adr_next_120': 479, 'occupancy_next_7': '14 %', 'market_occupancy_next_7': '55 %', 'recommended_base_price': 'Unavailable', 'last_refreshed_at': '2025-02-04T03:06:56+00:00'}, {'id': '369570', 'pms': 'ownerrez', 'name': 'Seaside Serenity', 'no_of_bedrooms': 7, 'min': 104, 'base': 339, 'max': 5000, 'group': None, 'subgroup': None, 'tags': None, 'notes': None, 'isHidden': False, 'push_enabled': True, 'last_date_pushed': '2025-02-04T03:06:53.000Z', 'last_booked_date': '2025-02-02T00:00:00.000Z', 'occupancy_next_30': '0 %', 'market_occupancy_next_30': '23 %', 'occupancy_next_60': '0 %', 'market_occupancy_next_60': '23 %', 'occupancy_next_90': '13 %', 'market_occupancy_next_90': '20 %', 'occupancy_next_120': '23 %', 'market_occupancy_next_120': '20 %', 'revenue_next_120': 8815, 'stly_revenue_next_120': 20241, 'adr_next_120': 367, 'stly_adr_next_120': 361, 'occupancy_next_7': '0 %', 'market_occupancy_next_7': '25 %', 'recommended_base_price': 'Unavailable', 'last_refreshed_at': '2025-02-04T03:06:51+00:00'}, {'id': '383229', 'pms': 'ownerrez', 'name': 'Ocean Pearl', 'no_of_bedrooms': 7, 'min': 195, 'base': 689, 'max': 4000, 'group': None, 'subgroup': None, 'tags': None, 'notes': None, 'isHidden': False, 'push_enabled': True, 'last_date_pushed': '2025-02-04T03:06:46.000Z', 'last_booked_date': '2025-02-03T00:00:00.000Z', 'occupancy_next_30': '47 %', 'market_occupancy_next_30': '12 %', 'occupancy_next_60': '35 %', 'market_occupancy_next_60': '11 %', 'occupancy_next_90': '33 %', 'market_occupancy_next_90': '12 %', 'occupancy_next_120': '33 %', 'market_occupancy_next_120': '13 %', 'revenue_next_120': 21780, 'stly_revenue_next_120': 39881, 'adr_next_120': 545, 'stly_adr_next_120': 554, 'occupancy_next_7': '71 %', 'market_occupancy_next_7': '15 %', 'recommended_base_price': 'Unavailable', 'last_refreshed_at': '2025-02-04T03:06:43+00:00'}, {'id': '410712', 'pms': 'ownerrez', 'name': 'Red Ridge Retreat', 'no_of_bedrooms': 5, 'min': 85, 'base': 455, 'max': 3000, 'group': None, 'subgroup': None, 'tags': None, 'notes': None, 'isHidden': False, 'push_enabled': True, 'last_date_pushed': '2025-02-04T03:06:36.000Z', 'last_booked_date': '2025-01-09T00:00:00.000Z', 'occupancy_next_30': '63 %', 'market_occupancy_next_30': '22 %', 'occupancy_next_60': '38 %', 'market_occupancy_next_60': '17 %', 'occupancy_next_90': '26 %', 'market_occupancy_next_90': '14 %', 'occupancy_next_120': '19 %', 'market_occupancy_next_120': '12 %', 'revenue_next_120': 4589, 'stly_revenue_next_120': 4549, 'adr_next_120': 200, 'stly_adr_next_120': 207, 'occupancy_next_7': '100 %', 'market_occupancy_next_7': '30 %', 'recommended_base_price': 'Unavailable', 'last_refreshed_at': '2025-02-04T03:06:33+00:00'}, {'id': '411321', 'pms': 'ownerrez', 'name': 'Evergreen Escape', 'no_of_bedrooms': 5, 'min': 136, 'base': 402, 'max': 3000, 'group': 'Smokies', 'subgroup': None, 'tags': None, 'notes': None, 'isHidden': False, 'push_enabled': True, 'last_date_pushed': '2025-02-04T03:07:03.000Z', 'last_booked_date': '2025-02-03T00:00:00.000Z', 'occupancy_next_30': '50 %', 'market_occupancy_next_30': '22 %', 'occupancy_next_60': '33 %', 'market_occupancy_next_60': '22 %', 'occupancy_next_90': '41 %', 'market_occupancy_next_90': '20 %', 'occupancy_next_120': '46 %', 'market_occupancy_next_120': '18 %', 'revenue_next_120': 18147, 'stly_revenue_next_120': 10878, 'adr_next_120': 330, 'stly_adr_next_120': 294, 'occupancy_next_7': '29 %', 'market_occupancy_next_7': '20 %', 'recommended_base_price': 'Unavailable', 'last_refreshed_at': '2025-02-04T03:07:00+00:00'}, {'id': '440901', 'pms': 'ownerrez', 'name': 'Wolf Top Lodge', 'no_of_bedrooms': 5, 'min': 332, 'base': 600, 'max': 40000, 'group': 'Smokies', 'subgroup': None, 'tags': None, 'notes': None, 'isHidden': False, 'push_enabled': True, 'last_date_pushed': '2025-02-04T03:06:24.000Z', 'last_booked_date': '2025-01-26T00:00:00.000Z', 'occupancy_next_30': '10 %', 'market_occupancy_next_30': '22 %', 'occupancy_next_60': '13 %', 'market_occupancy_next_60': '24 %', 'occupancy_next_90': '9 %', 'market_occupancy_next_90': '22 %', 'occupancy_next_120': '7 %', 'market_occupancy_next_120': '21 %', 'revenue_next_120': 4308, 'stly_revenue_next_120': '-', 'adr_next_120': 539, 'stly_adr_next_120': '-', 'occupancy_next_7': '0 %', 'market_occupancy_next_7': '22 %', 'recommended_base_price': 600, 'last_refreshed_at': '2025-02-04T03:06:21+00:00'}]}\n"
          ]
        }
      ]
    },
    {
      "cell_type": "code",
      "source": [
        "import requests\n",
        "\n",
        "# Your PriceLabs API key (replace {{API_KEY}} with your actual API key)\n",
        "api_key = \"64ei4i7DghoPUFcxk9uoyVJ1Ov8BFhPt5QqUdZou\"  # Replace this with your real API key\n",
        "\n",
        "# Example Listing IDs\n",
        "listing_ids = [\n",
        "    352182,  # You can add more listing IDs here as needed\n",
        "    383229,\n",
        "    715842\n",
        "]\n",
        "\n",
        "# Base API URL\n",
        "base_url = \"https://api.pricelabs.co/v1/listings\"  # Base URL\n",
        "\n",
        "# Headers for authentication\n",
        "headers = {\n",
        "    \"Authorization\": f\"Bearer {api_key}\",\n",
        "    \"Content-Type\": \"application/json\"\n",
        "}\n",
        "\n",
        "# Function to fetch data for each listing\n",
        "def fetch_data(listing_id):\n",
        "    url = f\"{base_url}/{listing_id}?api_key={api_key}\"  # Format URL for each listing ID\n",
        "    try:\n",
        "        response = requests.get(url, headers=headers)\n",
        "        # Check if the request was successful\n",
        "        if response.status_code == 200:\n",
        "            return response.json()  # Return the data for this listing\n",
        "        else:\n",
        "            print(f\"Error fetching data for Listing ID {listing_id}: {response.status_code} - {response.text}\")\n",
        "    except requests.exceptions.RequestException as e:\n",
        "        print(f\"Request failed for Listing ID {listing_id}: {e}\")\n",
        "    return None\n",
        "\n",
        "# Fetch data for all listings\n",
        "data = [fetch_data(listing_id) for listing_id in listing_ids]\n",
        "\n",
        "# Filter out any None values (in case of errors) and display the data\n",
        "data = [item for item in data if item is not None]\n",
        "\n",
        "if data:\n",
        "    for listing_data in data:\n",
        "        print(listing_data)  # Print data for each listing\n",
        "else:\n",
        "    print(\"No data retrieved.\")\n"
      ],
      "metadata": {
        "colab": {
          "base_uri": "https://localhost:8080/"
        },
        "id": "CRxvSUpWs76-",
        "outputId": "9a09b284-96d3-40b2-cb2c-70667dfe6b46"
      },
      "execution_count": null,
      "outputs": [
        {
          "output_type": "stream",
          "name": "stdout",
          "text": [
            "{'listings': [{'id': '352182', 'pms': 'ownerrez', 'name': 'Frangista Hideaway', 'no_of_bedrooms': 5, 'min': 122, 'base': 509, 'max': 3000, 'group': None, 'subgroup': None, 'tags': None, 'notes': None, 'isHidden': False, 'push_enabled': True, 'last_date_pushed': '2025-02-04T03:06:26.000Z', 'last_booked_date': '2025-01-23T00:00:00.000Z', 'occupancy_next_30': '47 %', 'market_occupancy_next_30': '23 %', 'occupancy_next_60': '30 %', 'market_occupancy_next_60': '30 %', 'occupancy_next_90': '20 %', 'market_occupancy_next_90': '29 %', 'occupancy_next_120': '18 %', 'market_occupancy_next_120': '28 %', 'revenue_next_120': 10013, 'stly_revenue_next_120': 29842, 'adr_next_120': 477, 'stly_adr_next_120': 409, 'occupancy_next_7': '0 %', 'market_occupancy_next_7': '24 %', 'recommended_base_price': 'Unavailable', 'last_refreshed_at': '2025-02-04T03:06:23+00:00'}]}\n",
            "{'listings': [{'id': '383229', 'pms': 'ownerrez', 'name': 'Ocean Pearl', 'no_of_bedrooms': 7, 'min': 195, 'base': 689, 'max': 4000, 'group': None, 'subgroup': None, 'tags': None, 'notes': None, 'isHidden': False, 'push_enabled': True, 'last_date_pushed': '2025-02-04T03:06:46.000Z', 'last_booked_date': '2025-02-03T00:00:00.000Z', 'occupancy_next_30': '47 %', 'market_occupancy_next_30': '12 %', 'occupancy_next_60': '35 %', 'market_occupancy_next_60': '11 %', 'occupancy_next_90': '33 %', 'market_occupancy_next_90': '12 %', 'occupancy_next_120': '33 %', 'market_occupancy_next_120': '13 %', 'revenue_next_120': 21780, 'stly_revenue_next_120': 39881, 'adr_next_120': 545, 'stly_adr_next_120': 554, 'occupancy_next_7': '71 %', 'market_occupancy_next_7': '15 %', 'recommended_base_price': 'Unavailable', 'last_refreshed_at': '2025-02-04T03:06:43+00:00'}]}\n",
            "{'listings': []}\n"
          ]
        }
      ]
    },
    {
      "cell_type": "code",
      "source": [
        "import requests\n",
        "import pandas as pd\n",
        "\n",
        "# Your PriceLabs API key (replace {{API_KEY}} with your actual API key)\n",
        "api_key = \"Mstk49YvpI22P3exIQgRcYmqmAkGszOpwvLivjGs\"  # Replace this with your real API key\n",
        "\n",
        "# Example Listing IDs\n",
        "listing_ids = [\n",
        "   715842,\n",
        "   818178,\n",
        "   54303728\n",
        "]\n",
        "\n",
        "# Base API URL\n",
        "base_url = \"https://api.pricelabs.co/v1/listings\"  # Base URL\n",
        "\n",
        "# Headers for authentication\n",
        "headers = {\n",
        "    \"Authorization\": f\"Bearer {api_key}\",\n",
        "    \"Content-Type\": \"application/json\"\n",
        "}\n",
        "\n",
        "# Function to fetch data for each listing\n",
        "def fetch_data(listing_id):\n",
        "    url = f\"{base_url}/{listing_id}?api_key={api_key}\"  # Format URL for each listing ID\n",
        "    try:\n",
        "        response = requests.get(url, headers=headers)\n",
        "        # Check if the request was successful\n",
        "        if response.status_code == 200:\n",
        "            return response.json()  # Return the data for this listing\n",
        "        else:\n",
        "            print(f\"Error fetching data for Listing ID {listing_id}: {response.status_code} - {response.text}\")\n",
        "    except requests.exceptions.RequestException as e:\n",
        "        print(f\"Request failed for Listing ID {listing_id}: {e}\")\n",
        "    return None\n",
        "\n",
        "# Fetch data for all listings\n",
        "data = [fetch_data(listing_id) for listing_id in listing_ids]\n",
        "\n",
        "# Filter out any None values (in case of errors)\n",
        "data = [item for item in data if item is not None]\n",
        "\n",
        "# Convert the data to a Pandas DataFrame\n",
        "if data:\n",
        "    df = pd.json_normalize(data)  # Flatten the JSON and convert to DataFrame\n",
        "    print(listing_data)  # Print data for each listing\n",
        "else:\n",
        "    print(\"No data retrieved.\")\n"
      ],
      "metadata": {
        "colab": {
          "base_uri": "https://localhost:8080/"
        },
        "id": "mX2_j8tktaFw",
        "outputId": "246b2508-5c49-4c94-dd68-bf33e577e673"
      },
      "execution_count": null,
      "outputs": [
        {
          "output_type": "stream",
          "name": "stdout",
          "text": [
            "{'listings': []}\n"
          ]
        }
      ]
    },
    {
      "cell_type": "code",
      "source": [],
      "metadata": {
        "id": "09daAySjt5Fa"
      },
      "execution_count": null,
      "outputs": []
    }
  ]
}